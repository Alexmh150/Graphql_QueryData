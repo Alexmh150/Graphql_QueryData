{
 "cells": [
  {
   "cell_type": "code",
   "execution_count": null,
   "id": "fd2b6c7a",
   "metadata": {},
   "outputs": [],
   "source": []
  }
 ],
 "metadata": {
  "kernelspec": {
   "display_name": "Python 3.8.1 64-bit",
   "language": "python",
   "name": "python3"
  },
  "language_info": {
   "codemirror_mode": {
    "name": "ipython",
    "version": 3
   },
   "file_extension": ".py",
   "mimetype": "text/x-python",
   "name": "python",
   "nbconvert_exporter": "python",
   "pygments_lexer": "ipython3",
   "version": "3.8.1"
  },
  "vscode": {
   "interpreter": {
    "hash": "1747805bfdf7e5202ab7b3cd6fa8f118e6fcddb135f7d35fd21660df307704da"
   }
  }
 },
 "nbformat": 4,
 "nbformat_minor": 5
}
